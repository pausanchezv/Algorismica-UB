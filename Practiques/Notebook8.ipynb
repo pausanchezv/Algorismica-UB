{
 "metadata": {
  "name": "",
  "signature": "sha256:d9618e07ed8ba33a5ea47223a7b2633f31a206a6d82a5796136197dc6968ebe8"
 },
 "nbformat": 3,
 "nbformat_minor": 0,
 "worksheets": [
  {
   "cells": [
    {
     "cell_type": "markdown",
     "metadata": {},
     "source": [
      "# Notebook 8: Algorismes de dividir i vencer (II)."
     ]
    },
    {
     "cell_type": "markdown",
     "metadata": {},
     "source": [
      "<div class=\"alert alert-error\"><strong><center>Aquesta pr\u00e0ctica \u00e9s avaluable. \n",
      "\n",
      "L'heu de lliurar amb UN \u00daNIC FITXER (Notebook8.ipynb), a trav\u00e9s del campus virtual de la UB, COMPLETAT AMB EL CONJUNT DE FUNCIONS QUE S\u2019HAN D'IMPLEMENTAR a les cel\u00b7les que s'indica.</center></strong> </div>"
     ]
    },
    {
     "cell_type": "markdown",
     "metadata": {},
     "source": [
      "## Exercici 1\n",
      "\n",
      "+ Escriu un algorisme recursiu, ``length``, que calculi la longitud d\u2019una llista de forma recursiva amb la restricci\u00f3 que l\u2019\u00fanica condici\u00f3 que podeu usar \u00e9s si la llista est\u00e0 buida ``(if not L:)`` ."
     ]
    },
    {
     "cell_type": "code",
     "collapsed": false,
     "input": [
      "# Substitu\u00efu la comanda pass per la vostra soluci\u00f3\n",
      "\n",
      "def length(a, pos):\n",
      "    \n",
      "    if not a: # \u00danica condici\u00f3 de la funci\u00f3\n",
      "        return pos\n",
      "\n",
      "    return length(a[1:], pos + 1)\n",
      "\n",
      "# Test de la funci\u00f3\n",
      "a = [1,2,3,4,5]\n",
      "a = tuple(a) # Optimitzaci\u00f3 ja que no hem de moure l'estructura de l'array\n",
      "pos  = 0\n",
      "\n",
      "# Test de la funci\u00f3\n",
      "print \"Longitud:\", length(a, pos)"
     ],
     "language": "python",
     "metadata": {},
     "outputs": [
      {
       "output_type": "stream",
       "stream": "stdout",
       "text": [
        "Longitud: 5\n"
       ]
      }
     ],
     "prompt_number": 1
    },
    {
     "cell_type": "markdown",
     "metadata": {},
     "source": [
      "## Exercici 2\n",
      "\n",
      "+ Escriu un algorisme recursiu, ``isMember``, que miri si un element $x$ forma part d\u2019una llista amb la restricci\u00f3 que l\u2019\u00fanica condici\u00f3 que podeu usar \u00e9s si la llista est\u00e0 buida ``(if not L:)`` i l\u2019\u00fanica funci\u00f3 que podeu cridar \u00e9s ``list.pop([L])``."
     ]
    },
    {
     "cell_type": "code",
     "collapsed": false,
     "input": [
      "# Substitu\u00efu la comanda pass per la vostra soluci\u00f3\n",
      "\n",
      "def isMember(a,b):\n",
      "    \n",
      "    if not b:\n",
      "        return False\n",
      "    \n",
      "    return (b.pop() == a) or isMember (a, b) #True\n",
      "    \n",
      "\n",
      "# Test de la funci\u00f3\n",
      "\n",
      "b = [1,2,3,4,5]\n",
      "isMember(3,b)\n"
     ],
     "language": "python",
     "metadata": {},
     "outputs": [
      {
       "metadata": {},
       "output_type": "pyout",
       "prompt_number": 2,
       "text": [
        "True"
       ]
      }
     ],
     "prompt_number": 2
    },
    {
     "cell_type": "markdown",
     "metadata": {},
     "source": [
      "## Exercici 3\n",
      "\n",
      "+ Donada una llista de $n$ nombres reals $[x_1, x_2, ..., x_n]$ fes un algorisme, ``aprop``,  de dividir i conquerir que calculi quina \u00e9s la parella de punts que estan m\u00e9s a prop un de l\u2019altre. Calcula la seva complexitat."
     ]
    },
    {
     "cell_type": "code",
     "collapsed": false,
     "input": [
      "# Substitu\u00efu la comanda pass per la vostra soluci\u00f3\n",
      "\n",
      "# Complexitat O(n log n)\n",
      "# Suposant que el sort() del python sigui O(n log n) com el quicksort cal sumar el meu algotisme aprop que \u00e9s O(n) a la complexitat\n",
      "# Els sumands segons la gran O s\u00f3n despreciables, aleshores O(n log n + n) = O(n log n)\n",
      "\n",
      "def aprop(a, ordered = 0):\n",
      "    \n",
      "    if not ordered:\n",
      "        a.sort() # Ordeno la llista nom\u00e9s a la primera execuci\u00f3 O(n log n) !Suposadament (no ho coneixem)\n",
      "        a = tuple(a) # Optimitzaci\u00f3, tamb\u00e9 nom\u00e9s a la primera execuci\u00f3\n",
      "    \n",
      "    length = len(a) # Longitud de l'array\n",
      "\n",
      "    if length == 2: # Nom\u00e9s volem retornar parelles\n",
      "        return a\n",
      "    \n",
      "    left = aprop(a[:length / 2 + 1], 1) # ,1 (true) per no tornar a ordenar l'array. Ja est\u00e0 ordenat. A baix, igual\n",
      "    right = aprop(a[length / 2:], 1)\n",
      "\n",
      "    leftDist = abs(left[0] - left[1]) # Valors absoluts per si f\u00f3ssim nombres negatius\n",
      "    rightDist = abs(right[0] - right[1])\n",
      "    \n",
      "    if rightDist < leftDist: # Aqui anem retornant les parelles de valor minim fins que nom\u00e9s en queda una\n",
      "        return right\n",
      "    else:\n",
      "        return left \n",
      "    \n",
      "\n",
      "a= [1.2,2.9,3.1,4.0,5.7]\n",
      "\n",
      "print \"Parella m\u00e9s propera:\", aprop(a)\n"
     ],
     "language": "python",
     "metadata": {},
     "outputs": [
      {
       "output_type": "stream",
       "stream": "stdout",
       "text": [
        "Parella m\u00e9s propera: (2.9, 3.1)\n"
       ]
      }
     ],
     "prompt_number": 3
    },
    {
     "cell_type": "markdown",
     "metadata": {},
     "source": [
      "## Exercici 4\n",
      "\n",
      "+ Donada una llista de $n$ elements, escriu una funci\u00f3, ``elimina``, que elimini tots els elements duplicats amb complexitat $O(nlog n)$."
     ]
    },
    {
     "cell_type": "code",
     "collapsed": false,
     "input": [
      "# Substitu\u00efu la comanda pass per la vostra soluci\u00f3\n",
      "\n",
      "# Com que no cal ordenar l'array per eliminar els duplicats ens podem estalviar cost innecessari\n",
      "\n",
      "def elimina(a):\n",
      "    \n",
      "    if len(a) < 2: # Si l'array t\u00e9 menys de 2 elements no n'hi pot haver de repetits\n",
      "        return a\n",
      "    \n",
      "    pivot = len(a) / 2\n",
      "    left = elimina(a[:pivot])\n",
      "    right = elimina(a[pivot:])\n",
      "    \n",
      "    return left + [i for i in right if i not in left]\n",
      "\n",
      "# Test de la funci\u00f3\n",
      "a= ['a','b','c','a','a']\n",
      "\n",
      "print \"Elements no repetits:\",elimina(a)\n"
     ],
     "language": "python",
     "metadata": {},
     "outputs": [
      {
       "output_type": "stream",
       "stream": "stdout",
       "text": [
        "Elements no repetits: ['a', 'b', 'c']\n"
       ]
      }
     ],
     "prompt_number": 29
    },
    {
     "cell_type": "markdown",
     "metadata": {},
     "source": [
      "## Exercici 5\n",
      "\n",
      "+ Escriu una funci\u00f3 **recursiva**, ``max_llista``, que calculi el m\u00e0xim d\u2019una llista d\u2019enters (Observaci\u00f3: el m\u00e0xim de la llista \u00e9s el m\u00e0xim entre el primer element de la llista i el m\u00e0xim de la resta)."
     ]
    },
    {
     "cell_type": "code",
     "collapsed": false,
     "input": [
      "# Substitu\u00efu la comanda pass per la vostra soluci\u00f3\n",
      "\n",
      "def max_llista(a, maxNum):\n",
      "\n",
      "    if not a:\n",
      "        return maxNum\n",
      "    \n",
      "    elif maxNum < a[0]: # Si l'actual maxNum \u00e9s inferior a a[0] actualitzo maxNum\n",
      "        maxNum = a[0]\n",
      "        return max_llista(a[1:], maxNum) # Trec la primera posici\u00f3 i faig la recursi\u00f3 amb un element menys\n",
      "    \n",
      "    return max_llista(a[1:], maxNum)\n",
      "\n",
      "# Test de la funci\u00f3\n",
      "\n",
      "a = [1934, 1980, 34, 1998, -90, 345, 3543, 45]\n",
      "\n",
      "\n",
      "maxNum = a[0] # Primer suposo que el numero m\u00e0xim \u00e9s el de la primera posici\u00f3 de l'array\n",
      "print \"Numero m\u00e0xim:\",max_llista(a, maxNum)\n"
     ],
     "language": "python",
     "metadata": {},
     "outputs": [
      {
       "output_type": "stream",
       "stream": "stdout",
       "text": [
        "Numero m\u00e0xim: 3543\n"
       ]
      }
     ],
     "prompt_number": 30
    },
    {
     "cell_type": "code",
     "collapsed": false,
     "input": [],
     "language": "python",
     "metadata": {},
     "outputs": [],
     "prompt_number": 3
    }
   ],
   "metadata": {}
  }
 ]
}