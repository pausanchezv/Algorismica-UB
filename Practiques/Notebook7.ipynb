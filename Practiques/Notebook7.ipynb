{
 "metadata": {
  "name": "",
  "signature": "sha256:d83ca40406736261055ed9dbdb8c22315f06a7f371205ef050bc47b3c8cc7a45"
 },
 "nbformat": 3,
 "nbformat_minor": 0,
 "worksheets": [
  {
   "cells": [
    {
     "cell_type": "markdown",
     "metadata": {},
     "source": [
      "# Notebook 7: Algorismes de dividir i vencer (I)."
     ]
    },
    {
     "cell_type": "markdown",
     "metadata": {},
     "source": [
      "<div class=\"alert alert-error\"><strong><center>Aquesta pr\u00e0ctica \u00e9s avaluable. \n",
      "\n",
      "L'heu de lliurar amb UN \u00daNIC FITXER (Notebook7.ipynb), a trav\u00e9s del campus virtual de la UB, COMPLETAT AMB EL CONJUNT DE FUNCIONS QUE S\u2019HAN D'IMPLEMENTAR a les cel\u00b7les que s'indica.</center></strong> </div>"
     ]
    },
    {
     "cell_type": "code",
     "collapsed": false,
     "input": [
      "# Als exercicis 2 i 3 he fet dues versions (iterativa i recursiva) aplicant el dividir i v\u00e8ncer"
     ],
     "language": "python",
     "metadata": {},
     "outputs": []
    },
    {
     "cell_type": "markdown",
     "metadata": {},
     "source": [
      "## Exercici 1\n",
      "\n",
      "+ Escriu una funci\u00f3 no recursiva (``negatius``) tal que donada una llista de nombres enters (possiblement desordenats) la funci\u00f3 retorni la mateixa llista amb els nombres negatius al capdavant i els positius al darrera (sense importar l\u2019ordre entre ells). Aquest algorisme es pot resoldre de la forma demanada amb una estrat\u00e8gia semblant (tot i que una mica m\u00e9s simple) a la partici\u00f3 del **quicksort**."
     ]
    },
    {
     "cell_type": "code",
     "collapsed": false,
     "input": [
      "# Substitu\u00efu la comanda pass per la vostra soluci\u00f3\n",
      "\n",
      "# Adaptaci\u00f3 del 'partition' del quicksort a les necessitats de l'exercici\n",
      "\n",
      "def negatius(A):\n",
      "    \n",
      "    pivot, i = 0, 0\n",
      "    j = len(a) - 1 \n",
      "    \n",
      "    while True:\n",
      "        \n",
      "        while i <= j and A[i] < pivot: \n",
      "            i += 1\n",
      "        while j >= i and A[j] > pivot: \n",
      "            j -= 1\n",
      "        if i >= j: \n",
      "            break\n",
      "        else:\n",
      "            A[i], A[j] = A[j], A[i]\n",
      "    \n",
      "    A[j], A[pivot] = A[pivot], A[j]\n",
      "    \n",
      "    return A\n",
      "\n",
      "# Test de la funci\u00f3\n",
      "\n",
      "a=[1,-2,3,-4,-3,5,6]\n",
      "\n",
      "print \"Resultat:\\nLa mateixa llista amb els nombres negatius al capdavant i els positius al darrera (sense importar l\u2019ordre entre ells)\"\n",
      "print \"\\n\", negatius(a)"
     ],
     "language": "python",
     "metadata": {},
     "outputs": [
      {
       "output_type": "stream",
       "stream": "stdout",
       "text": [
        "Resultat:\n",
        "La mateixa llista amb els nombres negatius al capdavant i els positius al darrera (sense importar l\u2019ordre entre ells)\n",
        "\n",
        "[-4, -2, -3, 3, 1, 5, 6]\n"
       ]
      }
     ],
     "prompt_number": 4
    },
    {
     "cell_type": "markdown",
     "metadata": {},
     "source": [
      "## Exercici 2\n",
      "\n",
      "+ Escriu una funci\u00f3 (``exponen``t) que usant t\u00e8cniques de dividir i v\u00e8ncer, calculi el valor $a^n$ per qualsevol $a>0$, sent $n$ un enter positiu. Podeu fer servir el fet que $a^n = a^{\u230an/2\u230b} \\cdot a^{\u2308n/2\u2309}$"
     ]
    },
    {
     "cell_type": "code",
     "collapsed": false,
     "input": [
      "# Substitu\u00efu la comanda pass per la vostra soluci\u00f3\n",
      "\n",
      "\n",
      "############# Versi\u00f3 iterativa #############\n",
      "\n",
      "def exponent(base, exp):\n",
      "    \n",
      "    result = 0\n",
      "    \n",
      "    if not base: return 0        # Si la base f\u00f3s 0. ----> 0^x = 0\n",
      "    elif not exp: return 1       # Si l'exponent f\u00f3s 0. ----> x^0 = 1\n",
      "    elif exp == 1: return base   # Si l'exponent \u00e9s 1. ---> base ** 1 = base\n",
      "    else:\n",
      "        \n",
      "        while exp > 1:\n",
      "            result = result + ((base ** (exp/2.0)) * (base ** (exp/2.0)))\n",
      "            exp = exp / 2.0\n",
      "\n",
      "        return result        \n",
      "\n",
      "# Test de la funci\u00f3\n",
      "print\n",
      "print \"Versi\u00f3 iterativa - Resultat: \" + str(exponent(45.78, 45))\n",
      "\n",
      "\n",
      "############# Versi\u00f3 recursiva #############\n",
      "\n",
      "def exponentR(base, exp):\n",
      "    \n",
      "    if not base: return 0        # Si la base f\u00f3s 0. ----> 0^x = 0\n",
      "    elif not exp: return 1       # Si l'exponent f\u00f3s 0. ----> x^0 = 1\n",
      "    elif exp == 1: return base   # Si l'exponent \u00e9s 1. ---> base ** 1 = base\n",
      "    else:  \n",
      "            result = exponentR(base, exp/2.0) * exponentR(base, exp/2.0)\n",
      "            return result\n",
      "            \n",
      "\n",
      "# Test de la funci\u00f3\n",
      "print \"Versi\u00f3 recursiva - Resultat: \" + str(exponent(45.78, 45))\n"
     ],
     "language": "python",
     "metadata": {},
     "outputs": [
      {
       "output_type": "stream",
       "stream": "stdout",
       "text": [
        "\n",
        "Versi\u00f3 iterativa - Resultat: 5.37539614149e+74\n",
        "Versi\u00f3 recursiva - Resultat: 5.37539614149e+74\n"
       ]
      }
     ],
     "prompt_number": 3
    },
    {
     "cell_type": "markdown",
     "metadata": {},
     "source": [
      "## Exercici 3\n",
      "\n",
      "+\tEscriu una funci\u00f3 (``reverse``) que usant t\u00e8cniques de dividir i v\u00e8ncer, inverteixi l\u2019ordre dels car\u00e0cters d\u2019un string. "
     ]
    },
    {
     "cell_type": "code",
     "collapsed": false,
     "input": [
      "# Substitu\u00efu la comanda pass per la vostra soluci\u00f3\n",
      "    \n",
      "################# Versi\u00f3 iterativa #################\n",
      "  \n",
      "def addStr(string): # Aquesta funci\u00f3 reconstrueix els dos sub-problemes retornant els substrings amb les lletres canviades\n",
      "    \n",
      "    newStr = \"\"\n",
      "    \n",
      "    for i in range (len(string)): # Iteraci\u00f3 de reconstrucci\u00f3\n",
      "        newStr += string[len(string) -i -1]\n",
      "    \n",
      "    return newStr\n",
      "\n",
      "def reverse(string):\n",
      "    \n",
      "    if len(string) < 2: return string\n",
      "    \n",
      "    else:\n",
      "        pivot = len(string) / 2 \n",
      "        firstStr = string[:pivot]\n",
      "        secondStr = string[pivot:]\n",
      "\n",
      "        newStr = addStr(secondStr) + addStr(firstStr) # Enviem els substrings a capgirar\n",
      "\n",
      "        return newStr\n",
      "\n",
      "# Test de la funci\u00f3\n",
      "print\n",
      "print \"Versio iterativa - Resultat: \" + str(reverse('Hola, com estas?'))\n",
      "\n",
      "\n",
      "################ Versi\u00f3 recursiva ####################\n",
      "\n",
      "def reverseR(string):\n",
      "    \n",
      "    if(len(string) < 2):\n",
      "        return string\n",
      "    \n",
      "    else:\n",
      "        \n",
      "        pivot = len(string) / 2\n",
      "        \n",
      "        firstStr = string[:pivot]\n",
      "        secondStr = string[pivot:]\n",
      "\n",
      "        return reverseR(secondStr) + reverseR(firstStr) \n",
      "\n",
      "# Test de la funci\u00f3\n",
      "print \"Versio recursiva - Resultat: \" + str(reverseR('Hola, com estas?'))\n"
     ],
     "language": "python",
     "metadata": {},
     "outputs": [
      {
       "output_type": "stream",
       "stream": "stdout",
       "text": [
        "\n",
        "Versio iterativa - Resultat: ?satse moc ,aloH\n",
        "Versio recursiva - Resultat: ?satse moc ,aloH\n"
       ]
      }
     ],
     "prompt_number": 2
    },
    {
     "cell_type": "code",
     "collapsed": false,
     "input": [],
     "language": "python",
     "metadata": {},
     "outputs": []
    }
   ],
   "metadata": {}
  }
 ]
}