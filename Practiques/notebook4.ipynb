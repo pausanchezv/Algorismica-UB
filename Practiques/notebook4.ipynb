{
 "metadata": {
  "name": "",
  "signature": "sha256:e252dfc3f39cf97ea989a446665b0e674db0192eb41eeea91d7cd5baeaddce19"
 },
 "nbformat": 3,
 "nbformat_minor": 0,
 "worksheets": [
  {
   "cells": [
    {
     "cell_type": "markdown",
     "metadata": {},
     "source": [
      "# Notebook 4: Estructures de Control i Col\u2022leccions."
     ]
    },
    {
     "cell_type": "markdown",
     "metadata": {},
     "source": [
      "<div class=\"alert alert-error\"><strong><center>Aquesta pr\u00e0ctica \u00e9s avaluable. \n",
      "\n",
      "L'heu de lliurar amb UN \u00daNIC FITXER (Notebook4.ipynb), a trav\u00e9s del campus virtual de la UB, COMPLETAT AMB EL CONJUNT DE FUNCIONS QUE S\u2019HAN D'IMPLEMENTAR a les cel\u00b7les que s'indica.</center></strong> </div>"
     ]
    },
    {
     "cell_type": "markdown",
     "metadata": {},
     "source": [
      "## Exercici 1\n",
      "\n",
      "+ Escriu, fent servir la instrucci\u00f3 ``while``, una funci\u00f3, ``mentre``,  que calculi el seg\u00fcents valors:\n",
      "\n",
      "    +\tLa suma dels primers $n$ nombres enters: $1+2+3+...+n$\n",
      "    +\tLa suma dels primers $n$ nombres senars: $1+3+5+..+(2n-1)$\n",
      "    +\tLa suma de tots els nombres que entra l\u2019usuari fins que entra $999$ (no inclogueu el $999$ en la suma).\n",
      "    +\tEl nombre de vegades que un nombre pot ser dividir per $2$ (amb la divisi\u00f3 sencera) abans d\u2019arribar a $1$.\n"
     ]
    },
    {
     "cell_type": "code",
     "collapsed": false,
     "input": [
      "# Substitu\u00efu la comanda pass per la vostra soluci\u00f3\n",
      "\n",
      "def mentre():\n",
      "    n = input(\"Entra un nombre enter: \")\n",
      "    \n",
      "    # Suma dels primers n  nombres enters: 1+2+3+...+n \n",
      "    \n",
      "    i = 0\n",
      "    total = 0\n",
      "    while n > i:\n",
      "        i += 1\n",
      "        total = total + i\n",
      "    print \"\\nLa suma dels primers nombres enters fins al que has entrat \u00e9s: \", total\n",
      "    \n",
      "    # Suma dels primers n  nombres senars: 1+3+5+..+(2n\u22121) \n",
      "    \n",
      "    n1 = 2*n-1\n",
      "    i = -1\n",
      "    total = 0\n",
      "    while n1 > i:\n",
      "        i = i + 2\n",
      "        total = total + i\n",
      "    print \"La suma dels primers nombres senars fins al que has entrat \u00e9s: \", total\n",
      "    \n",
      "    # Nombre de vegades que un nombre pot ser dividir per 2  (amb la divisi\u00f3 sencera) abans d\u2019arribar a 1 .\n",
      "    \n",
      "    i = 0\n",
      "    while n / 2 >= 1:\n",
      "        i += 1\n",
      "        n = n / 2\n",
      "    print \"El teu nombre es pot dividir \" + str(i) + \" vegades per 2\\n\"\n",
      "    \n",
      "    # Suma de tots els nombres que entra l\u2019usuari fins que entra 999  (no inclogueu el 999  en la suma).\n",
      "    \n",
      "    total = 0\n",
      "    n = input(\"Entra un nombre per sumar i atura escribint 999: \")\n",
      "    while n != 999:\n",
      "        total = total + n\n",
      "        n = input(\"Entra un altre nombre o atura amb '999': \")\n",
      "    print \"\\nLa suma total dels teus nombre \u00e9s: \", total\n",
      "    "
     ],
     "language": "python",
     "metadata": {},
     "outputs": [],
     "prompt_number": 21
    },
    {
     "cell_type": "code",
     "collapsed": false,
     "input": [
      "# Test de la funci\u00f3\n",
      "\n",
      "mentre()"
     ],
     "language": "python",
     "metadata": {},
     "outputs": [
      {
       "name": "stdout",
       "output_type": "stream",
       "stream": "stdout",
       "text": [
        "Entra un nombre enter: 25\n"
       ]
      },
      {
       "output_type": "stream",
       "stream": "stdout",
       "text": [
        "\n",
        "La suma dels primers nombres enters fins al que has entrat \u00e9s:  325\n",
        "La suma dels primers nombres senars fins al que has entrat \u00e9s:  625\n",
        "El teu nombre es pot dividir 4 vegades per 2\n",
        "\n"
       ]
      },
      {
       "name": "stdout",
       "output_type": "stream",
       "stream": "stdout",
       "text": [
        "Entra un nombre per sumar i atura escribint 999: 1\n"
       ]
      },
      {
       "name": "stdout",
       "output_type": "stream",
       "stream": "stdout",
       "text": [
        "Entra un altre nombre o atura amb '999': 2\n"
       ]
      },
      {
       "name": "stdout",
       "output_type": "stream",
       "stream": "stdout",
       "text": [
        "Entra un altre nombre o atura amb '999': 3\n"
       ]
      },
      {
       "name": "stdout",
       "output_type": "stream",
       "stream": "stdout",
       "text": [
        "Entra un altre nombre o atura amb '999': 4\n"
       ]
      },
      {
       "name": "stdout",
       "output_type": "stream",
       "stream": "stdout",
       "text": [
        "Entra un altre nombre o atura amb '999': 5\n"
       ]
      },
      {
       "name": "stdout",
       "output_type": "stream",
       "stream": "stdout",
       "text": [
        "Entra un altre nombre o atura amb '999': 999\n"
       ]
      },
      {
       "output_type": "stream",
       "stream": "stdout",
       "text": [
        "\n",
        "La suma total dels teus nombre \u00e9s:  15\n"
       ]
      }
     ],
     "prompt_number": 22
    },
    {
     "cell_type": "markdown",
     "metadata": {},
     "source": [
      "## Exercici 2\n",
      "\n",
      "+ Escriu una funci\u00f3, ``inversio``, que usant el ``while`` calculi quan triga una inversi\u00f3 a doblar el seu valor, donat un inter\u00e8s fix durant tot el per\u00edode. L\u2019entrada ser\u00e0 l\u2019inter\u00e8s anual, i la sortida el nombre d\u2019anys que trigar\u00e0 una inversi\u00f3 a doblar-se.  "
     ]
    },
    {
     "cell_type": "code",
     "collapsed": false,
     "input": [
      "# Substitu\u00efu la comanda pass per la vostra soluci\u00f3\n",
      "\n",
      "def inversio(i):\n",
      "    amount_init = 1 # La quantitat inicial \u00e9s constant, tant se val posar 1 com 1.000.000, \u00e9s el mateix.\n",
      "    amount_double = 2 * amount_init\n",
      "    n = 0\n",
      "    amount_final = amount_init # Aqui el capital final encara \u00e9s igual a l'inicial\n",
      "    while amount_final < amount_double:\n",
      "        n += 1\n",
      "        amount_final = amount_init * (1 + i)**n # F\u00f3rmula de la capitalitzaci\u00f3 composta\n",
      "    i = int(float(i*100))\n",
      "    print \"La teva inversi\u00f3 al \" + str(i) + \"% d'interes fix trigar\u00e0 \" + str(n) + \" anys a doblar-se\"\n"
     ],
     "language": "python",
     "metadata": {},
     "outputs": [],
     "prompt_number": 19
    },
    {
     "cell_type": "code",
     "collapsed": false,
     "input": [
      "i = input(\"Entra el tipus d'interes que desitges: \")\n",
      "\n",
      "inversio(i)"
     ],
     "language": "python",
     "metadata": {},
     "outputs": [
      {
       "name": "stdout",
       "output_type": "stream",
       "stream": "stdout",
       "text": [
        "Entra el tipus d'interes que desitges: 0.03\n"
       ]
      },
      {
       "output_type": "stream",
       "stream": "stdout",
       "text": [
        "La teva inversi\u00f3 al 3% d'interes fix trigar\u00e0 24 anys a doblar-se\n"
       ]
      }
     ],
     "prompt_number": 20
    },
    {
     "cell_type": "markdown",
     "metadata": {},
     "source": [
      "## Exercici 3\n",
      "\n",
      "+ Escriu una funci\u00f3, ``nota``,  que, donat un nombre real que ha de representar la qualificaci\u00f3 num\u00e8rica d\u2019un examen, proporcioni la qualificaci\u00f3 quantitativa corresponent al nombre donat segons aquesta conversi\u00f3 (heu de fer servir alguna col\u2022lecci\u00f3 de Python!): \n",
      "     + Suspens = nota menor que 5; \n",
      "     + Arovat = nota igual o m\u00e9s gran que 5 i menor que 7; \n",
      "     + Notable = nota m\u00e9s gran o igual que 7 i menor que 9.0; \n",
      "     + Excel\u2219lent = nota m\u00e9s gran o igual que 9 per\u00f2 menor que 10; \n",
      "     + Matr\u00edcula = 10."
     ]
    },
    {
     "cell_type": "code",
     "collapsed": false,
     "input": [
      "# Substitu\u00efu la comanda pass per la vostra soluci\u00f3\n",
      "\n",
      "def nota(n):\n",
      "    notes = {0:\"Suspens\", 1:\"Suspens\", 2:\"Suspens\", 3:\"Suspens\", 4:\"Suspens\", 5:\"Aprovat\", 6:\"Aprovat\", 7:\"Aprovat\", 8:\"Notable\", 9:\"Excel\u00b7lent\", 10:\"Matricula\"}\n",
      "    print notes[n]"
     ],
     "language": "python",
     "metadata": {},
     "outputs": [],
     "prompt_number": 15
    },
    {
     "cell_type": "code",
     "collapsed": false,
     "input": [
      "# Test de la funci\u00f3\n",
      "n = input(\"Entra una nota: \")\n",
      "nota(int(n)) # Poso int() per si alg\u00fa entra una nota amb decimals que funcioni igualment"
     ],
     "language": "python",
     "metadata": {},
     "outputs": [
      {
       "name": "stdout",
       "output_type": "stream",
       "stream": "stdout",
       "text": [
        "Entra una nota: 10\n"
       ]
      },
      {
       "output_type": "stream",
       "stream": "stdout",
       "text": [
        "Matricula\n"
       ]
      }
     ],
     "prompt_number": 16
    },
    {
     "cell_type": "markdown",
     "metadata": {},
     "source": [
      "## Execici 4\n",
      "\n",
      "L\u2019\u00faltima lletra del NIF es calcula a partir dels nombres del DNI. Per fer\u2010ho, s\u2019ha de dividir el nombre per 23 i quedar\u2010se amb la resta, que \u00e9s un nombre entre 0 i 22. Llavors s\u2019aplica la seg\u00fcent taula per transformar aquest nombre en una lletra:\n",
      "\n",
      "\n",
      "| Resta\t| Lletra | Resta | Lletra | \n",
      "| ----- |:------:|:-----:|:------:|\n",
      "| 0\t    | T\t     |  12\t |  N     | \n",
      "| 1\t    | R\t     |\t13\t |\tJ     | \n",
      "| 2\t    | W\t     |\t14\t |\tZ     | \n",
      "| 3\t    | A\t     |\t15\t |\tS     | \n",
      "| 4\t    | G\t     |\t16\t |\tQ     | \n",
      "| 5\t    | M\t     |\t17\t |  V     | \n",
      "| 6\t    | Y\t     |\t18\t |\tH     | \n",
      "| 7\t    | F\t     |\t19\t |\tL     | \n",
      "| 8\t    | P\t     |\t20\t |\tC     | \n",
      "| 9\t    | D\t     |\t21\t |\tK     | \n",
      "| 10    | X\t     |\t22\t |\tE     | \n",
      "| 11    | B\t     |\t-\t |\t-     |\t\n",
      "\n",
      "\n",
      "\n",
      "\n",
      "+ Escriu una funci\u00f3, ``dni``, que demani pel teclat el nombre de DNI i imprimir la lletra. Comproveu que el DNI tingui el nombre de xifres que ha de tenir! Heu de fer servir alguna col\u2022lecci\u00f3 de Python.\n"
     ]
    },
    {
     "cell_type": "code",
     "collapsed": false,
     "input": [
      "# Substitu\u00efu la comanda pass per la vostra soluci\u00f3\n",
      "\n",
      "# La col\u00b7lecci\u00f3 utilitzada \u00e9s la tupla\n",
      "\n",
      "arr_letters = (\"T\",\"R\",\"W\",\"A\",\"G\",\"M\",\"Y\",\"F\",\"P\",\"D\",\"X\",\"B\",\"N\",\"J\",\"Z\",\"S\",\"Q\",\"V\",\"H\",\"L\",\"C\",\"K\",\"E\")\n",
      "\n",
      "def dni(n):\n",
      "    if len(n) != 8: # Comprovo el nombre de xifres del DNI\n",
      "        n = raw_input(\"ERROR! escriu un DNI valid: \")\n",
      "        dni(n)\n",
      "    else:\n",
      "        letter = arr_letters[int(n) % 23] # Busco el residu a la posici\u00f3 de l'array \n",
      "        print \"La lletra associada al DNI \" + str(n) + \" \u00e9s la \" + str(letter)\n",
      "        "
     ],
     "language": "python",
     "metadata": {},
     "outputs": [],
     "prompt_number": 13
    },
    {
     "cell_type": "code",
     "collapsed": false,
     "input": [
      "# Test de la funci\u00f3\n",
      "n = raw_input(\"Escriu el teu DNI: \")\n",
      "dni(n)"
     ],
     "language": "python",
     "metadata": {},
     "outputs": [
      {
       "name": "stdout",
       "output_type": "stream",
       "stream": "stdout",
       "text": [
        "Escriu el teu DNI: 38839477\n"
       ]
      },
      {
       "output_type": "stream",
       "stream": "stdout",
       "text": [
        "La lletra associada al DNI 38839477 \u00e9s la K\n"
       ]
      }
     ],
     "prompt_number": 14
    },
    {
     "cell_type": "markdown",
     "metadata": {},
     "source": [
      "## Exercici 5\n",
      "\n",
      "+ Escriu una funci\u00f3, ``llista``,  que fent servir algun tipus de col\u2022lecci\u00f3, tingui com entrada una llista de paraules entrades per l\u2019usuari i com a sortida la mateixa llista per\u00f2 amb els elements desordenats de forma *aleat\u00f2ria*."
     ]
    },
    {
     "cell_type": "code",
     "collapsed": false,
     "input": [
      "# Substitu\u00efu la comanda pass per la vostra soluci\u00f3\n",
      "\n",
      "# IMPORTANT: l'Entrada ha de ser una llista de Python en format Python: ['Pau',1,2,(\"sanchez\",4)]. Pots entrar\n",
      "# la llista amb o sense [] per\u00f2 obligatoriament amb valors que siguin evaluables pel python, i els elements\n",
      "# separats per comes. Admet, enters, arrays, strings, etc...\n",
      "\n",
      "def shuffle(oldArray, maxArray):\n",
      "    \n",
      "    import random\n",
      "    newArray = {} # Creo un array buit amb key/value\n",
      "    \n",
      "    i = 0\n",
      "    while len(newArray) < int(maxArray): # Itero fins igualar el lenght de l'array entrat per l'usuari \n",
      "        \n",
      "        randNum = random.randint(0,len(oldArray)-1) #Genero un numero aleatori \n",
      "    \n",
      "        newArray[i] = oldArray[randNum] # Afegeixo un element aleatori a l'array nou\n",
      "        oldArray.remove(oldArray[randNum]) # I elimino la posici\u00f3 en l'array antic\n",
      "        \n",
      "        i += 1           \n",
      "    \n",
      "    print \"\\nLa teva llista desordenada \u00e9s: \" + str(newArray.values()) # El retorn \u00e9s un <type 'list'>, una llista.\n",
      "        "
     ],
     "language": "python",
     "metadata": {},
     "outputs": [],
     "prompt_number": 18
    },
    {
     "cell_type": "code",
     "collapsed": false,
     "input": [
      "# Test de la funci\u00f3\n",
      "\n",
      "words = input(\"Entra una llista de paraules en FORMAT PYTHON: \")\n",
      "\n",
      "maxArray = len(words)\n",
      "words = list(words) # For\u00e7o a llista per evitar errors, si no, si l'usuari no entra [], python creu que es tupla i no deixa eliminar elements\n",
      "\n",
      "shuffle(words, maxArray)\n"
     ],
     "language": "python",
     "metadata": {},
     "outputs": [
      {
       "name": "stdout",
       "output_type": "stream",
       "stream": "stdout",
       "text": [
        "Entra una llista de paraules en FORMAT PYTHON: \"Pau\",\"Sanchez\",(1,2,3),\"casa\",\"abre\",56,57,['un','dos',1,2]\n"
       ]
      },
      {
       "output_type": "stream",
       "stream": "stdout",
       "text": [
        "\n",
        "La teva llista desordenada \u00e9s: [(1, 2, 3), 'casa', 57, 'Pau', ['un', 'dos', 1, 2], 'abre', 56, 'Sanchez']\n"
       ]
      }
     ],
     "prompt_number": 21
    },
    {
     "cell_type": "markdown",
     "metadata": {},
     "source": [
      "## Exercici 6\n",
      "\n",
      "+ Escriu una funci\u00f3, ``otan``, que usant un diccionari converteixi un string a l\u2019alfabet fon\u00e8tic. L\u2019alfabet fon\u00e8tic de la OTAN \u00e9s el seg\u00fcent:  \n",
      "\n",
      "\n",
      "A=Alpha\t, B=Bravo \t    , C=Charlie\t    , D=Delta\t\t, E=Echo\t\t, F=Foxtrot ,\n",
      "G=Golf\t, H=Hotel\t\t, I=India\t\t, J=Juliet\t\t, K=Kilo\t\t, L=Lima   ,\n",
      "M=Mike\t, N=November\t, O=Oscar\t\t, P=Papa\t\t, Q=Quebec\t    , R=Romeo  ,\n",
      "S=Sierra\t, T=Tango\t\t, U=Uniform\t    , V=Victor\t\t, W=Whiskey\t    , X=Xray   ,\n",
      "Y=Yankee\t, Z=Zulu      ,\n",
      "\n",
      "Per exemple, ``PYTHON = Papa Yankee Tango Hotel Oscar November``. "
     ]
    },
    {
     "cell_type": "code",
     "collapsed": false,
     "input": [
      "# Substitu\u00efu la comanda pass per la vostra soluci\u00f3\n",
      "\n",
      "arr_af = {\"A\":\"Alpha\",\"B\":\"Bravo\",\"C\":\"Charlie\",\"D\":\"Delta\",\"E\":\"Echo\",\"F\":\"Foxtrot\",\"G\":\"Golf\",\"H\":\"Hotel\",\"I\":\"India\",\"J\":\"Juliet\",\"K\":\"Kilo\",\"L\":\"Lima\",\"M\":\"Mike\",\"N\":\"November\",\"O\":\"Oscar\",\"P\":\"Papa\",\"Q\":\"Quebec\",\"R\":\"Romeo\",\"S\":\"Sierra\",\"T\":\"Tango\",\"U\":\"Uniform\",\"V\":\"Victor\",\"W\":\"Whiskey\",\"X\":\"Xray\",\"Y\":\"Yankee\",\"Z\":\"Zulu\",\" \":\"\"}\n",
      "\n",
      "def otan(var_af):\n",
      "    str_af = \"\"\n",
      "    for i in var_af:\n",
      "        if i == \" \": # Elimino els espais entrats per l'usuari si s\u00f3n sobrants\n",
      "            str_af = str_af + str(arr_af[i.upper()])\n",
      "        else: # Afegeixo un espai quan toca\n",
      "            str_af = str_af + str(arr_af[i.upper()]) + \" \"\n",
      "    print \"\\n\" + str(var_af.upper()) + \" =\", str_af\n",
      "        "
     ],
     "language": "python",
     "metadata": {},
     "outputs": [],
     "prompt_number": 5
    },
    {
     "cell_type": "code",
     "collapsed": false,
     "input": [
      "# Test de la funci\u00f3\n",
      "var_af = raw_input(\"Escriu una paraula: \")\n",
      "otan(var_af)"
     ],
     "language": "python",
     "metadata": {},
     "outputs": [
      {
       "name": "stdout",
       "output_type": "stream",
       "stream": "stdout",
       "text": [
        "Escriu una paraula: clitoris\n"
       ]
      },
      {
       "output_type": "stream",
       "stream": "stdout",
       "text": [
        "\n",
        "CLITORIS = Charlie Lima India Tango Oscar Romeo India Sierra \n"
       ]
      }
     ],
     "prompt_number": 6
    },
    {
     "cell_type": "code",
     "collapsed": false,
     "input": [],
     "language": "python",
     "metadata": {},
     "outputs": []
    }
   ],
   "metadata": {}
  }
 ]
}