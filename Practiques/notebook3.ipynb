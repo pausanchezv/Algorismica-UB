{
 "metadata": {
  "name": "",
  "signature": "sha256:a3ce1d19afd6949fbc600fc6aadb86df10b750fa097e0499d29384147f29259f"
 },
 "nbformat": 3,
 "nbformat_minor": 0,
 "worksheets": [
  {
   "cells": [
    {
     "cell_type": "markdown",
     "metadata": {},
     "source": [
      "# Notebook 3: Text."
     ]
    },
    {
     "cell_type": "markdown",
     "metadata": {},
     "source": [
      "<div class=\"alert alert-error\"><strong><center>Aquesta pr\u00e0ctica \u00e9s avaluable. \n",
      "\n",
      "L'heu de lliurar amb UN \u00daNIC FITXER (Notebook3.ipynb), a trav\u00e9s del campus virtual de la UB, COMPLETAT AMB EL CONJUNT DE FUNCIONS QUE S\u2019HAN D'IMPLEMENTAR a les cel\u00b7les que s'indica.</center></strong> </div>"
     ]
    },
    {
     "cell_type": "markdown",
     "metadata": {},
     "source": [
      "## Exercici 1\n",
      "\n",
      "Un **acr\u00f2nim** \u00e9s una paraula formada al prendre les primeres lletres de les paraules d\u2019una frase (per exemple, l\u2019acr\u00f2nim ``RAM`` correspon a la frase ``random access memory``). \n",
      "\n",
      "+ Escriu una funci\u00f3, ``acro``, que demani una frase a l\u2019usuari i imprimeixi l\u2019acr\u00f2nim corresponent. Recordeu que els acr\u00f2nims, independentment de com l\u2019usuari hagi entrat la frase, sempre s\u00f3n en maj\u00fascules."
     ]
    },
    {
     "cell_type": "code",
     "collapsed": false,
     "input": [
      "# Substitu\u00efu la comanda pass per la vostra soluci\u00f3\n",
      "\n",
      "def acro():\n",
      "    import string\n",
      "    words = raw_input(\"\\nEscriu una frase aqui: \")\n",
      "    arr_words = string.split(words) # Separo la frase en paraules\n",
      "    arr_acro = [] # Creo un array buit\n",
      "    for word in arr_words: \n",
      "        arr_acro.append(word[0]) # Omplo l'array amb cada iteraci\u00f3 amb la lletra 1 de cada paraula\n",
      "    final_acro =  string.join(arr_acro).replace(\" \", \"\").upper() # Separo l'array, elimino espais i canvio a maj\u00fascula\n",
      "    print \"\\nAqui tens el teu acr\u00f2nim: \" + str(final_acro)\n"
     ],
     "language": "python",
     "metadata": {},
     "outputs": [],
     "prompt_number": 8
    },
    {
     "cell_type": "code",
     "collapsed": false,
     "input": [
      "# Test de la funci\u00f3\n",
      "\n",
      "acro()"
     ],
     "language": "python",
     "metadata": {},
     "outputs": [
      {
       "name": "stdout",
       "output_type": "stream",
       "stream": "stdout",
       "text": [
        "\n",
        "Escriu una frase aqui: pau sanchez valdivieso\n"
       ]
      },
      {
       "output_type": "stream",
       "stream": "stdout",
       "text": [
        "\n",
        "Aqui tens el teu acr\u00f2nim: PSV\n"
       ]
      }
     ],
     "prompt_number": 9
    },
    {
     "cell_type": "markdown",
     "metadata": {},
     "source": [
      "## Exercici 2\n",
      "\n",
      "+\tEscriu una funci\u00f3, `` paraules``, que compti el nombre de paraules en una frase entrada per l\u2019usuari."
     ]
    },
    {
     "cell_type": "code",
     "collapsed": false,
     "input": [
      "# Substitu\u00efu la comanda pass per la vostra soluci\u00f3\n",
      "\n",
      "def paraules():\n",
      "    import string\n",
      "    words = raw_input(\"\\nEscriu una frase aqui: \")\n",
      "    arr_words = string.split(words) # Separo la cadena en elements sueltos (per espais)\n",
      "    print \"\\nLa teva frase t\u00e9 \" + str(len(arr_words)) + \" paraules\"\n",
      "    "
     ],
     "language": "python",
     "metadata": {},
     "outputs": [],
     "prompt_number": 10
    },
    {
     "cell_type": "code",
     "collapsed": false,
     "input": [
      "# Test de la funci\u00f3\n",
      "\n",
      "paraules()"
     ],
     "language": "python",
     "metadata": {},
     "outputs": [
      {
       "name": "stdout",
       "output_type": "stream",
       "stream": "stdout",
       "text": [
        "\n",
        "Escriu una frase aqui: Pau Sanchez Valdivieso\n"
       ]
      },
      {
       "output_type": "stream",
       "stream": "stdout",
       "text": [
        "\n",
        "La teva frase t\u00e9 3 paraules\n"
       ]
      }
     ],
     "prompt_number": 11
    },
    {
     "cell_type": "markdown",
     "metadata": {},
     "source": [
      "## Exercici 3\n",
      "\n",
      "El xifratge del C\u00e8sar \u00e9s un xifratge simple de substituci\u00f3 de  lletres que consisteix en canviar cada lletra d\u2019un missatge per la lletra que es troba un cert nombre $n$ de posicions m\u00e9s enll\u00e0 a l\u2019alfabet. Aquesta variable $n$ \u00e9s la clau de xifratge. Per exemple, si  $n=3$, el substitut de la ``a`` \u00e9s la ``d``. El missatge original es pot recuperar fent servir el codi al rev\u00e9s (a l\u2019exemple, far\u00edem servir  $n=-3$ per a desxifrar). \n",
      "\n",
      "+ Escriu una funci\u00f3, ``cesar``, que demani una clau pel xifratge i una frase (formada per lletres i espais) per xifrar. La sortida ha de ser la frase xifrada."
     ]
    },
    {
     "cell_type": "code",
     "collapsed": false,
     "input": [
      "min_ascii, max_ascii = 32, 126\n",
      "\n",
      "def add_increment(ord_i, var_n): \n",
      "    ord_inc = int(ord_i) + int(var_n)\n",
      "    if ord_inc > int(max_ascii): # Si ens passem del m\u00e0xim ASCII donem la volta altre cop\n",
      "        ord_incr = int(min_ascii + (ord_inc - max_ascii) -1)          \n",
      "    elif ord_inc < int(min_ascii): # Si ens passem del minim tamb\u00e9 donem la volta per\u00f2 a la inversa\n",
      "        ord_incr = int(max_ascii - (min_ascii - ord_inc) +1)\n",
      "    else: \n",
      "        ord_incr = ord_inc\n",
      "    return ord_incr\n",
      "\n",
      "def cesar(var_n, var_words):\n",
      "    new_string = \"\"\n",
      "    for i in var_words:\n",
      "        ord_i = ord(i)\n",
      "        cesar_encode = chr(add_increment(ord_i, var_n))\n",
      "        new_string = new_string + cesar_encode # Anem afegint caracters modificats a l'string de retorn\n",
      "    print \"La frase de retorn \u00e9s: \"+ str(new_string)\n"
     ],
     "language": "python",
     "metadata": {},
     "outputs": [],
     "prompt_number": 6
    },
    {
     "cell_type": "code",
     "collapsed": false,
     "input": [
      "# Test de la funci\u00f3\n",
      "\n",
      "var_n = input(\"Entra una clau de xifratge 'n' : \")\n",
      "var_words = raw_input(\"Escriu una frase per xifrar: \")\n",
      "    \n",
      "cesar(var_n, var_words)"
     ],
     "language": "python",
     "metadata": {},
     "outputs": [
      {
       "name": "stdout",
       "output_type": "stream",
       "stream": "stdout",
       "text": [
        "Entra una clau de xifratge 'n' : 5\n"
       ]
      },
      {
       "name": "stdout",
       "output_type": "stream",
       "stream": "stdout",
       "text": [
        "Escriu una frase per xifrar: Pau Sanchez Valdivieso\n"
       ]
      },
      {
       "output_type": "stream",
       "stream": "stdout",
       "text": [
        "La frase de retorn \u00e9s: Ufz%Xfshmj %[fqin{njxt\n"
       ]
      }
     ],
     "prompt_number": 7
    },
    {
     "cell_type": "markdown",
     "metadata": {},
     "source": [
      "## Exercici 4\n",
      "\n",
      "Baixeu\u2010vos la lletra d\u2019una can\u00e7\u00f3 qualsevol (per exemple, de http://www.azlyrics.com/) i copieu-la a un fitxer anomenat ``lletra.txt``. Donada la seg\u00fcent funci\u00f3:"
     ]
    },
    {
     "cell_type": "code",
     "collapsed": false,
     "input": [
      "def lyrics():\n",
      "    f = open(\"lletra.txt\",\"r\")\n",
      "    text = f.readlines()\n",
      "    f.close()\n",
      "    for line in text:\n",
      "        print line,\n",
      "    print\n",
      "lyrics()"
     ],
     "language": "python",
     "metadata": {},
     "outputs": [
      {
       "output_type": "stream",
       "stream": "stdout",
       "text": [
        "Well this heart of mine has been hardened like a stone\n",
        "It might take some time to get back what is gone\n",
        "But I'm movin' on and you don't haunt my dreams\n",
        "Like you did before oh when I would curse your name\n",
        "\n",
        "Well I heard the news that you were back in town\n",
        "Just passin' through to claim your lost and found\n",
        "But I'm over you and there ain't nothin' that\n",
        "You could say or do to take what you did back\n",
        "Well you got nerve to waltz right in\n",
        "And think what's mine is yours again\n",
        "\n",
        "Cause I've been doin' fine without you\n",
        "Forgettin' all the love we once knew\n",
        "And girl I ain't the one who slammed that door\n",
        "But now you say you've changed your thinkin'\n",
        "But I ain't got a heart for breakin'\n",
        "So go and pick your bags up off my floor\n",
        "Oh cause love don't live here anymore\n",
        "\n",
        "Well baby you can try to tell me how it is\n",
        "And try to justify everything you did\n",
        "But honey I'm no fool and oh I've been down this road\n",
        "Too many times with you I think it's best you go\n",
        "Well I got one thing left to say\n",
        "Is you can lay in the bed you've made\n",
        "\n",
        "Oh no that love don't live here anymore\n",
        "Oh no, no\n",
        "Sugar no, no\n",
        "And you don't live here anymore\n",
        "Love don't live here anymore\n",
        "And since you walked out of my door\n",
        "Love don't live here\n",
        "Love don't live here girl\n",
        "Oh love don't live here anymore\n"
       ]
      }
     ],
     "prompt_number": 12
    },
    {
     "cell_type": "markdown",
     "metadata": {},
     "source": [
      "Executeu-la per veure qu\u00e8 fa, i modifiqueu-la de manera que escrigui en un altre fitxer, ``lletra_cesar.txt`` (i no per pantalla) la can\u00e7\u00f3 segons el xifratge del C\u00e8sar amb $n=5$, fent que escrigui el nombre de l\u00ednia al comen\u00e7ament de cada l\u00ednia. \n",
      "\n",
      "Per fer-ho, podeu consultar: http://docs.python.org/tutorial/inputoutput.html#reading-and-writing-files"
     ]
    },
    {
     "cell_type": "code",
     "collapsed": false,
     "input": [
      "# Substitu\u00efu la comanda pass per la vostra soluci\u00f3\n",
      "\n",
      "# IMPORTANT! Per aquesta funci\u00f3 cal haver executat l'exercici 3 ja que reutilitzo la funci\u00f3 d'increment ASCII d'all\u00e0 mateix\n",
      "\n",
      "def lyrics2():\n",
      "    file = open(\"lletra.txt\",\"r\") # obro el file original\n",
      "    text = file.readlines()\n",
      "    file.close()\n",
      "    file = open(\"lletra_cesar.txt\", \"w\")\n",
      "    num_line = -1\n",
      "    for i in text:\n",
      "        line = str(i)\n",
      "        num_line += 1\n",
      "        if line != \"\\n\": # Si la linia no \u00e9s una linia buida (salt de linia) li poso el numero\n",
      "            file.write(str(num_line+1) + \". \")\n",
      "        else:\n",
      "            num_line -= 1 # Si \u00e9s una linia buida decremento el numerador de linies\n",
      "        var_n = 5 # n=5 (si posem 0 apareix la can\u00e7\u00f3 desxifrada)\n",
      "        for i in line:\n",
      "            ord_i = ord(i)\n",
      "            cesar_encode = chr(add_increment(ord_i, var_n)) #utilitzo la funci\u00f3 d'increment de l'exercici anterior\n",
      "            if ord_i == 10:\n",
      "                cesar_encode = \"\\n\" # mantinc els salts de linia tal i com estan\n",
      "            file.write (cesar_encode)\n",
      "    file.close\n"
     ],
     "language": "python",
     "metadata": {},
     "outputs": [],
     "prompt_number": 13
    },
    {
     "cell_type": "code",
     "collapsed": false,
     "input": [
      "# Test de la funci\u00f3\n",
      "\n",
      "lyrics2()"
     ],
     "language": "python",
     "metadata": {},
     "outputs": [],
     "prompt_number": 14
    },
    {
     "cell_type": "markdown",
     "metadata": {},
     "source": [
      "## Exercici 5\n",
      "\n",
      "+ Escriviu una funci\u00f3, ``sequencia``, que calculi quantes vegades hi ha una ``t`` seguida d\u2019una ``h`` a la lletra de la can\u00e7\u00f3 de l\u2019exercici anterior."
     ]
    },
    {
     "cell_type": "code",
     "collapsed": false,
     "input": [
      "# Substitu\u00efu la comanda pass per la vostra soluci\u00f3\n",
      "\n",
      "def sequencia(file):\n",
      "    file = open(file,\"r\")\n",
      "    text = file.read()\n",
      "    file.close()\n",
      "    cont = 0\n",
      "    for i in range(len(text)):\n",
      "        if text[i] == 't' and text[i+1]=='h':\n",
      "            cont += 1\n",
      "    print \"Hi ha \" + str(cont) + \" 't' seguides d'una 'h'.\""
     ],
     "language": "python",
     "metadata": {},
     "outputs": [],
     "prompt_number": 15
    },
    {
     "cell_type": "code",
     "collapsed": false,
     "input": [
      "# Test de la funci\u00f3\n",
      "\n",
      "file = 'lletra.txt'\n",
      "sequencia(file)"
     ],
     "language": "python",
     "metadata": {},
     "outputs": [
      {
       "output_type": "stream",
       "stream": "stdout",
       "text": [
        "Hi ha 20 't' seguides d'una 'h'.\n"
       ]
      }
     ],
     "prompt_number": 16
    },
    {
     "cell_type": "markdown",
     "metadata": {},
     "source": [
      "## Exercici 6\n",
      "\n",
      "+ Escriviu una funci\u00f3, ``paraula``, que calculi quantes vegades surt una determinada paraula (que preguntareu a l\u2019usuari) a la lletra de la can\u00e7\u00f3 de l\u2019exercici anterior."
     ]
    },
    {
     "cell_type": "code",
     "collapsed": false,
     "input": [
      "# Substitu\u00efu la comanda pass per la vostra soluci\u00f3\n",
      "\n",
      "def paraula(word, text):\n",
      "    import string \n",
      "    for i in \"\u00aa\u00ba\\!|@\u00b7#$~%\u20ac&\u00ac/()=?\u00bf'\u00a1^.,;:_-[]{}*+\u00e7\u00a8\u00b4`<>\": #Eliminem caracters extranys\n",
      "        text = string.replace(text,i, '')\n",
      "    arr_words = string.split(text.lower())\n",
      "    word = word.lower()\n",
      "    count = 0\n",
      "    for i in arr_words:\n",
      "        if i == str(word):\n",
      "            count += 1\n",
      "    print \"La paraula '\" + word + \"' es repeteix \" + str(count) + \" vegades\"\n",
      "       \n"
     ],
     "language": "python",
     "metadata": {},
     "outputs": [],
     "prompt_number": 17
    },
    {
     "cell_type": "code",
     "collapsed": false,
     "input": [
      "# Test de la funci\u00f3\n",
      "\n",
      "word = raw_input (\"Escriu una paraula: \")\n",
      "file = open(\"lletra.txt\",\"r\")\n",
      "text = file.read()\n",
      "file.close()\n",
      "paraula(word, text)"
     ],
     "language": "python",
     "metadata": {},
     "outputs": [
      {
       "name": "stdout",
       "output_type": "stream",
       "stream": "stdout",
       "text": [
        "Escriu una paraula: WelL\n"
       ]
      },
      {
       "output_type": "stream",
       "stream": "stdout",
       "text": [
        "La paraula 'well' es repeteix 5 vegades\n"
       ]
      }
     ],
     "prompt_number": 18
    },
    {
     "cell_type": "code",
     "collapsed": false,
     "input": [],
     "language": "python",
     "metadata": {},
     "outputs": []
    }
   ],
   "metadata": {}
  }
 ]
}