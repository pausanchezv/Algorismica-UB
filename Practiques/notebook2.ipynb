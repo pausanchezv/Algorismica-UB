{
 "metadata": {
  "name": "",
  "signature": "sha256:f88d8df59021a1fa8e1d7ea15460d11f017cec48b402adaac11bbab2723ce006"
 },
 "nbformat": 3,
 "nbformat_minor": 0,
 "worksheets": [
  {
   "cells": [
    {
     "cell_type": "markdown",
     "metadata": {},
     "source": [
      "# Notebook 2: Python & Computaci\u00f3 Num\u00e8rica."
     ]
    },
    {
     "cell_type": "markdown",
     "metadata": {},
     "source": [
      "<div class=\"alert alert-error\"><strong><center>Aquesta pr\u00e0ctica \u00e9s avaluable. \n",
      "\n",
      "L'heu de lliurar amb UN \u00daNIC FITXER (Notebook2.ipynb), a trav\u00e9s del campus virtual de la UB, COMPLETAT AMB EL CONJUNT DE FUNCIONS QUE S\u2019HAN D'IMPLEMENTAR a les cel\u00b7les que s'indica.</center></strong> </div>"
     ]
    },
    {
     "cell_type": "markdown",
     "metadata": {},
     "source": [
      "La funci\u00f3 ``futval`` calcula els diners que tindrem en un compte del banc al cap de 10 anys en funci\u00f3 de la inversi\u00f3 inicial i de l'inter\u00e8s que em d\u00f3na el banc: "
     ]
    },
    {
     "cell_type": "code",
     "collapsed": false,
     "input": [
      "def futval():\n",
      "    print \"C\u00e0lcul del valor futur d\u2019una inversio a 10 anys.\"\n",
      "    principal = input(\"Entra la inversio inicial: \")\n",
      "    apr = input(\"Entra l'interes anual: \")\n",
      "    for i in range(10):\n",
      "        principal = principal * (1 + apr)\n",
      "    print \"La quantitat al cap de 10 anys es:\", principal\n",
      "    \n",
      "futval()"
     ],
     "language": "python",
     "metadata": {},
     "outputs": []
    },
    {
     "cell_type": "markdown",
     "metadata": {},
     "source": [
      "## Exercici 1\n",
      "\n",
      "+ Escriviu, a partir de ``futval1``, una funci\u00f3 ``futval2`` de manera que el nombre d\u2019anys que fa servir sigui tamb\u00e9 una dada que entra l\u2019usuari (compte amb el concepte d\u2019inter\u00e8s!). Canvieu el missatge final adequadament."
     ]
    },
    {
     "cell_type": "code",
     "collapsed": false,
     "input": [
      "# Substitu\u00efu la comanda pass per la vostra soluci\u00f3\n",
      "\n",
      "def futval2(anys):\n",
      "    print\n",
      "    print \"C\u00e0lcul del valor futur d\u2019una inversio a \" + str(anys) + \" anys.\"\n",
      "    principal = input(\"Entra la inversio inicial: \")\n",
      "    apr = input(\"Entra l'interes anual: \")\n",
      "    apr_percentage = float(apr/100.00)\n",
      "    for i in range(anys):\n",
      "        principal = principal * (1 + apr_percentage)\n",
      "    print\n",
      "    print \"La quantitat al cap de \" + str(anys) + \" anys es:\", principal\n",
      "    print    "
     ],
     "language": "python",
     "metadata": {},
     "outputs": [
      {
       "output_type": "stream",
       "stream": "stdout",
       "text": [
        "\n"
       ]
      }
     ],
     "prompt_number": 3
    },
    {
     "cell_type": "code",
     "collapsed": false,
     "input": [
      "# Test de la funci\u00f3\n",
      "\n",
      "print\n",
      "anys = input(\"Entra el nombre d'anys: \")\n",
      "futval2(anys)"
     ],
     "language": "python",
     "metadata": {},
     "outputs": [
      {
       "output_type": "stream",
       "stream": "stdout",
       "text": [
        "\n"
       ]
      },
      {
       "name": "stdout",
       "output_type": "stream",
       "stream": "stdout",
       "text": [
        "Entra el nombre d'anys: 1\n"
       ]
      },
      {
       "output_type": "stream",
       "stream": "stdout",
       "text": [
        "\n",
        "C\u00e0lcul del valor futur d\u2019una inversio a 1 anys.\n"
       ]
      },
      {
       "name": "stdout",
       "output_type": "stream",
       "stream": "stdout",
       "text": [
        "Entra la inversio inicial: 1000\n"
       ]
      },
      {
       "name": "stdout",
       "output_type": "stream",
       "stream": "stdout",
       "text": [
        "Entra l'interes anual: 2\n"
       ]
      },
      {
       "output_type": "stream",
       "stream": "stdout",
       "text": [
        "\n",
        "La quantitat al cap de 1 anys es: 1020.0\n",
        "\n"
       ]
      }
     ],
     "prompt_number": 4
    },
    {
     "cell_type": "markdown",
     "metadata": {},
     "source": [
      "La funci\u00f3 ``convert`` converteix els graus Celsius en graus Fahrenheit:"
     ]
    },
    {
     "cell_type": "code",
     "collapsed": false,
     "input": [
      "def convert():\n",
      "    celsius = input(\"What is the Celsius temperature? \")\n",
      "    fahrenheit = 9.0 / 5.0 * celsius + 32\n",
      "    print \"The temperature is\", fahrenheit, \"degrees Fahrenheit.\""
     ],
     "language": "python",
     "metadata": {},
     "outputs": []
    },
    {
     "cell_type": "markdown",
     "metadata": {},
     "source": [
      "## Exercici 2\n",
      "\n",
      "+ Modifiqueu la funci\u00f3 i escriviu una funci\u00f3 ``convert2`` de manera que calculi i imprimeixi una taula de temperatures Celsius i dels seus equivalents Fahrenheit cada 10 graus de 0C a 100C. "
     ]
    },
    {
     "cell_type": "code",
     "collapsed": false,
     "input": [
      "# Substitu\u00efu la comanda pass per la vostra soluci\u00f3\n",
      "\n",
      "def convert2():\n",
      "    print \"\\nTaula de conversi\u00f3 de celsius a farenheit \\n\"\n",
      "    for i in range(0, 100, 10):\n",
      "        fahrenheit = 9.0 / 5.0 * i + 32\n",
      "        print str(i) + \" graus celsius equivalen a \" + str(fahrenheit) + \" graus fahrenheit\"\n",
      "    print"
     ],
     "language": "python",
     "metadata": {},
     "outputs": [],
     "prompt_number": 11
    },
    {
     "cell_type": "code",
     "collapsed": false,
     "input": [
      "# Test de la funci\u00f3\n",
      "\n",
      "convert2()"
     ],
     "language": "python",
     "metadata": {},
     "outputs": [
      {
       "output_type": "stream",
       "stream": "stdout",
       "text": [
        "\n",
        "Taula de conversi\u00f3 de celsius a farenheit \n",
        "\n",
        "0 graus celsius equivalen a 32.0 graus fahrenheit\n",
        "10 graus celsius equivalen a 50.0 graus fahrenheit\n",
        "20 graus celsius equivalen a 68.0 graus fahrenheit\n",
        "30 graus celsius equivalen a 86.0 graus fahrenheit\n",
        "40 graus celsius equivalen a 104.0 graus fahrenheit\n",
        "50 graus celsius equivalen a 122.0 graus fahrenheit\n",
        "60 graus celsius equivalen a 140.0 graus fahrenheit\n",
        "70 graus celsius equivalen a 158.0 graus fahrenheit\n",
        "80 graus celsius equivalen a 176.0 graus fahrenheit\n",
        "90 graus celsius equivalen a 194.0 graus fahrenheit\n",
        "\n"
       ]
      }
     ],
     "prompt_number": 12
    },
    {
     "cell_type": "markdown",
     "metadata": {},
     "source": [
      "## Exercici 3\n",
      "\n",
      "+ Escriviu una funci\u00f3, exp, que calculi i imprimeixi el resultat de cada una d\u2019aquestes expressions. Assegureu-vos que el valor est\u00e0 en el tipus correcte.\n",
      "\n",
      "    - 4.0 / 10.0 + 3.5 * 2\n",
      "    - 10 % 4 + 6 / 2\n",
      "    - abs(4 - 20 / 3) ** 3\n",
      "    - sqrt(4.5 - 5.0) + 7 * 3 \n",
      "    - 3 * 10 / 3 + 10 % 3\n",
      "    - 3L ** 3\n",
      "   \n",
      "+ Si hi ha alguna expressi\u00f3 que et d\u00f3na error al avaluar-la, explica perqu\u00e8."
     ]
    },
    {
     "cell_type": "code",
     "collapsed": false,
     "input": [
      "# Substitu\u00efu la comanda pass per la vostra soluci\u00f3\n",
      "\n",
      "import math\n",
      "def exp():\n",
      "    print 4.0 / 10.0 + 3.5 * 2\n",
      "    print 10 % 4 + 6 / 2\n",
      "    print abs(4 - 20 / 3) ** 3\n",
      "    ## print math.sqrt(4.5 - 5.0) + 7 * 3 No pot executarse ja que fa arrel d'un nombre negatiu\n",
      "    print 3 * 10 / 3 + 10 % 3\n",
      "    print 3L ** 3"
     ],
     "language": "python",
     "metadata": {},
     "outputs": [],
     "prompt_number": 5
    },
    {
     "cell_type": "code",
     "collapsed": false,
     "input": [
      "# Test de la funci\u00f3\n",
      "\n",
      "exp()"
     ],
     "language": "python",
     "metadata": {},
     "outputs": [
      {
       "output_type": "stream",
       "stream": "stdout",
       "text": [
        "7.4\n",
        "5\n",
        "8\n",
        "11\n",
        "27\n"
       ]
      }
     ],
     "prompt_number": 6
    },
    {
     "cell_type": "code",
     "collapsed": false,
     "input": [
      "# Explica per qu\u00e8 hi ha expressions que generen un error.\n",
      "\n",
      "# La funci\u00f3 dona error perqu\u00e8 estem intentant fer arrel quadrada de numero negatiu"
     ],
     "language": "python",
     "metadata": {},
     "outputs": []
    },
    {
     "cell_type": "markdown",
     "metadata": {},
     "source": [
      "## Exercici 4\n",
      "\n",
      "+ Considereu dos punts en un pla segons les seves coordenades $(x_1,y_1)$ i $(x_2,y_2)$. Escriviu una funci\u00f3, ``punts``, que calculi la pendent de la recta que passa per aquests dos punts. $m=(y_2-y_1)/(x_2-x_1)$"
     ]
    },
    {
     "cell_type": "code",
     "collapsed": false,
     "input": [
      "# Substitu\u00efu la comanda pass per la vostra soluci\u00f3\n",
      "\n",
      "def pendent(x1,y1,x2,y2):\n",
      "    m = (y2-y1)/(x2-x1)\n",
      "    print \"\\nLa pendent que passa pels dos punts \u00e9s: \" + str(m)"
     ],
     "language": "python",
     "metadata": {},
     "outputs": [],
     "prompt_number": 5
    },
    {
     "cell_type": "code",
     "collapsed": false,
     "input": [
      "# Test de la funci\u00f3\n",
      "\n",
      "pendent(0,0,1,1)"
     ],
     "language": "python",
     "metadata": {},
     "outputs": [
      {
       "output_type": "stream",
       "stream": "stdout",
       "text": [
        "\n",
        "La pendent que passa pels dos punts \u00e9s: 1\n"
       ]
      }
     ],
     "prompt_number": 6
    },
    {
     "cell_type": "markdown",
     "metadata": {},
     "source": [
      "## Exercici 5\n",
      "\n",
      "+ Escriu una funci\u00f3, ``euclid``, que accepti dos punts i calculi la dist\u00e0ncia euclidiana entre ells, $d= \\sqrt{(x_2-x_1)^2+(y_2-y_1)^2}$ "
     ]
    },
    {
     "cell_type": "code",
     "collapsed": false,
     "input": [
      "# Substitu\u00efu la comanda pass per la vostra soluci\u00f3\n",
      "\n",
      "def euclid(x1,y1,x2,y2):\n",
      "    import math\n",
      "    d = math.sqrt((x2-x1)**2+(y2-y1)**2)\n",
      "    print \"La distancia euclidiana entre aquest dos punts \u00e9s: \", d"
     ],
     "language": "python",
     "metadata": {},
     "outputs": [],
     "prompt_number": 13
    },
    {
     "cell_type": "code",
     "collapsed": false,
     "input": [
      "# Test de la funci\u00f3\n",
      "\n",
      "euclid(0,0,1.3,1.3)"
     ],
     "language": "python",
     "metadata": {},
     "outputs": [
      {
       "output_type": "stream",
       "stream": "stdout",
       "text": [
        "La distancia euclidiana entre aquest dos punts \u00e9s:  1.83847763109\n"
       ]
      }
     ],
     "prompt_number": 14
    },
    {
     "cell_type": "markdown",
     "metadata": {},
     "source": [
      "## Exercici 6\n",
      "\n",
      "+ Escriu una funci\u00f3, ``euclid2``, que accepti dos punts del pla i calculi el nombre enter que m\u00e9s s\u2019apropa a la dist\u00e0ncia euclidiana."
     ]
    },
    {
     "cell_type": "code",
     "collapsed": false,
     "input": [
      "# Substitu\u00efu la comanda pass per la vostra soluci\u00f3\n",
      "\n",
      "def euclid2(x1,y1,x2,y2):\n",
      "    import math\n",
      "    d = math.sqrt((x2-x1)**2+(y2-y1)**2)\n",
      "    print \"La distancia euclidiana entre aquest dos punts com a nombre enter \u00e9s: \", math.floor(int(d))"
     ],
     "language": "python",
     "metadata": {},
     "outputs": [],
     "prompt_number": 22
    },
    {
     "cell_type": "code",
     "collapsed": false,
     "input": [
      "# Test de la funci\u00f3\n",
      "\n",
      "euclid2(0,3,8,4)"
     ],
     "language": "python",
     "metadata": {},
     "outputs": [
      {
       "output_type": "stream",
       "stream": "stdout",
       "text": [
        "La distancia euclidiana entre aquest dos punts com a nombre enter \u00e9s:  8.0\n"
       ]
      }
     ],
     "prompt_number": 23
    },
    {
     "cell_type": "markdown",
     "metadata": {},
     "source": [
      "Per les funcions seg\u00fcents necessiteu la sent\u00e8ncia ``if`` de Python. \n",
      "\n",
      "La sent\u00e8ncia ``if`` executa un bloc de codi si es compleix una condici\u00f3. Relacionat amb l'``if`` existeix l'``else``, que executa un bloc de codi si no es compleix una condici\u00f3 i l'``elif`` (contracci\u00f3 d'else-if en angl\u00e8s: si no-si en catal\u00e0), que executa un bloc de codi si no es compleix una condici\u00f3 per\u00f2 si una altra. (Font: Viquipedia)"
     ]
    },
    {
     "cell_type": "code",
     "collapsed": false,
     "input": [
      "# Comparativa entre if, elif i else:\n",
      "x = 3\n",
      "if x == 0: # Si x \u00e9s 0\n",
      "   print 'x \u00e9s 0'\n",
      "elif x == 2: # Si x \u00e9s 2\n",
      "   print 'x \u00e9s 2'\n",
      "else: # Si x no \u00e9s 0 ni 2\n",
      "   print 'x \u00e9s un altre n\u00famero'"
     ],
     "language": "python",
     "metadata": {},
     "outputs": []
    },
    {
     "cell_type": "markdown",
     "metadata": {},
     "source": [
      "## Exercici 7\n",
      "\n",
      "+ Escriu una funci\u00f3, ``factmenor``, que imprimeixi tots els valors menors que el nombre 6204484017332394393600000 i que s\u00f3n factorials d\u2019algun nombre natural."
     ]
    },
    {
     "cell_type": "code",
     "collapsed": false,
     "input": [
      "# Substitu\u00efu la comanda pass per la vostra soluci\u00f3\n",
      "\n",
      "def factmenor():\n",
      "    \n",
      "    import math\n",
      "    \n",
      "    num = 0\n",
      "    max_num = 6204484017332394393600000 \n",
      "    \n",
      "    while math.factorial(num) < max_num:\n",
      "        num+=1\n",
      "        result=  math.factorial(num-1)\n",
      "        print result"
     ],
     "language": "python",
     "metadata": {},
     "outputs": [],
     "prompt_number": 13
    },
    {
     "cell_type": "code",
     "collapsed": false,
     "input": [
      "# Test de la funci\u00f3\n",
      "\n",
      "factmenor()"
     ],
     "language": "python",
     "metadata": {},
     "outputs": [
      {
       "output_type": "stream",
       "stream": "stdout",
       "text": [
        "1\n",
        "1\n",
        "2\n",
        "6\n",
        "24\n",
        "120\n",
        "720\n",
        "5040\n",
        "40320\n",
        "362880\n",
        "3628800\n",
        "39916800\n",
        "479001600\n",
        "6227020800\n",
        "87178291200\n",
        "1307674368000\n",
        "20922789888000\n",
        "355687428096000\n",
        "6402373705728000\n",
        "121645100408832000\n",
        "2432902008176640000\n",
        "51090942171709440000\n",
        "1124000727777607680000\n",
        "25852016738884976640000\n",
        "620448401733239439360000\n"
       ]
      }
     ],
     "prompt_number": 14
    },
    {
     "cell_type": "markdown",
     "metadata": {},
     "source": [
      "## Exercici 8\n",
      "\n",
      "+ Fes una funci\u00f3, ``suma``, que sumi tots els nombres naturals menors que 1000 i que siguin m\u00faltiples de 3 i de 5."
     ]
    },
    {
     "cell_type": "code",
     "collapsed": false,
     "input": [
      "# Substitu\u00efu la comanda pass per la vostra soluci\u00f3\n",
      "\n",
      "def multiple(val):\n",
      "   \n",
      "    residu_3 = val % 3.0\n",
      "    residu_5 = val % 5.0\n",
      "    \n",
      "    if residu_3 == 0 and residu_5 == 0: # Comparo els residus i retorno un 1 o 0\n",
      "        return 1\n",
      "    else:\n",
      "        return 0\n",
      "\n",
      "def suma(total):\n",
      "    suma = 0\n",
      "    first = 1\n",
      "    print \"\\nLlistat dels m\u00faltiples de 3 i de 5 que s\u00f3n inferiors a 1000\\n\"\n",
      "    \n",
      "    for i in range(2, total):\n",
      "        is_multiple = multiple(i)\n",
      "        if is_multiple: # Comprovo que la funci\u00f3 m\u00faltiple m'hagi retornat 1 (true)\n",
      "            if first: # Miro quin \u00e9s l'ultim i no li poso coma\n",
      "                print str(i),\n",
      "                first = 0\n",
      "            else:\n",
      "                print \", \"+str(i),\n",
      "            suma = suma+i # 'i' \u00e9s cada valor\n",
      "        \n",
      "    print \"\\n\\nEl total de la suma dels m\u00faltiples de 5 i de 3 inferiors a 1000 \u00e9s: \" + str(suma) + \"\\n\""
     ],
     "language": "python",
     "metadata": {},
     "outputs": [],
     "prompt_number": 27
    },
    {
     "cell_type": "code",
     "collapsed": false,
     "input": [
      "# Test de la funci\u00f3\n",
      "\n",
      "total = 1000\n",
      "\n",
      "suma(total)"
     ],
     "language": "python",
     "metadata": {},
     "outputs": [
      {
       "output_type": "stream",
       "stream": "stdout",
       "text": [
        "\n",
        "Llistat dels m\u00faltiples de 3 i de 5 que s\u00f3n inferiors a 1000\n",
        "\n",
        "15 , 30 , 45 , 60 , 75 , 90 , 105 , 120 , 135 , 150 , 165 , 180 , 195 , 210 , 225 , 240 , 255 , 270 , 285 , 300 , 315 , 330 , 345 , 360 , 375 , 390 , 405 , 420 , 435 , 450 , 465 , 480 , 495 , 510 , 525 , 540 , 555 , 570 , 585 , 600 , 615 , 630 , 645 , 660 , 675 , 690 , 705 , 720 , 735 , 750 , 765 , 780 , 795 , 810 , 825 , 840 , 855 , 870 , 885 , 900 , 915 , 930 , 945 , 960 , 975 , 990 \n",
        "\n",
        "El total de la suma dels m\u00faltiples de 5 i de 3 inferiors a 1000 \u00e9s: 33165\n",
        "\n"
       ]
      }
     ],
     "prompt_number": 28
    },
    {
     "cell_type": "markdown",
     "metadata": {},
     "source": [
      "## Exercici 9\n",
      "\n",
      "+ Escriu una funci\u00f3, ``divisible``, que calculi quin \u00e9s el nombre natural m\u00e9s petit que \u00e9s divisible per 2,3,4,5,6,7,8,9 i 10."
     ]
    },
    {
     "cell_type": "code",
     "collapsed": false,
     "input": [
      "# Substitu\u00efu la comanda pass per la vostra soluci\u00f3\n",
      "\n",
      "items = [2,3,4,5,6,7,8,9,10]\n",
      "\n",
      "\n",
      "def comprove(val):\n",
      "    \n",
      "    results = [] # Creo un array buit\n",
      "    \n",
      "    for item in items: # Aqui comprovo que el valor que em passa l'altre funci\u00f3 sigui divisible\n",
      "        element = val % item\n",
      "        results.append(element) # Omplo la llista buida amb cada resultat\n",
      "    \n",
      "    num = 0\n",
      "    for result in results: # Desglosso la llista\n",
      "        if result > 0: # Miro que cada resultat per separat sigui major a 0\n",
      "            num += 1 # I si es cert incremento amb +1 la variable num\n",
      "    \n",
      "    if int(num) > 0: \n",
      "        return False\n",
      "        results = [] # Si num  \u00e9s superior a 0 retorno false i buido l'Array\n",
      "    else: \n",
      "        return True # Si no, el programa acaba i ja tenim el n\u00famero\n",
      "\n",
      "def divisible():\n",
      "    \n",
      "    cont = 1\n",
      "    \n",
      "    is_divisible = comprove(cont)\n",
      "    \n",
      "    while is_divisible == False: # Iteraci\u00f3 nom\u00e9s executable quan retornem false\n",
      "        cont += 1\n",
      "        is_divisible = comprove(cont)\n",
      "    \n",
      "    print \"El numero buscat \u00e9s\", cont # Es trenca la iteraci\u00f3 i obtinc el resultat "
     ],
     "language": "python",
     "metadata": {},
     "outputs": [],
     "prompt_number": 7
    },
    {
     "cell_type": "code",
     "collapsed": false,
     "input": [
      "\n",
      "# Test de la funci\u00f3\n",
      "\n",
      "divisible()"
     ],
     "language": "python",
     "metadata": {},
     "outputs": [
      {
       "output_type": "stream",
       "stream": "stdout",
       "text": [
        "El numero buscat \u00e9s 2520\n"
       ]
      }
     ],
     "prompt_number": 8
    },
    {
     "cell_type": "code",
     "collapsed": false,
     "input": [],
     "language": "python",
     "metadata": {},
     "outputs": []
    }
   ],
   "metadata": {}
  }
 ]
}