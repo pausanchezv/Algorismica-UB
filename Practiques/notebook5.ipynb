{
 "metadata": {
  "name": "",
  "signature": "sha256:093236ce2f537082d87ee3ff0fd5d139cf9e10b8b6062a59dbd33279cf5a7d96"
 },
 "nbformat": 3,
 "nbformat_minor": 0,
 "worksheets": [
  {
   "cells": [
    {
     "cell_type": "markdown",
     "metadata": {},
     "source": [
      "# Notebook 5: Algorismes num\u00e8rics."
     ]
    },
    {
     "cell_type": "markdown",
     "metadata": {},
     "source": [
      "<div class=\"alert alert-error\"><strong><center>Aquesta pr\u00e0ctica \u00e9s avaluable. \n",
      "\n",
      "L'heu de lliurar amb UN \u00daNIC FITXER (Notebook5.ipynb), a trav\u00e9s del campus virtual de la UB, COMPLETAT AMB EL CONJUNT DE FUNCIONS QUE S\u2019HAN D'IMPLEMENTAR a les cel\u00b7les que s'indica.</center></strong> </div>\n"
     ]
    },
    {
     "cell_type": "markdown",
     "metadata": {},
     "source": [
      "<div class=\"alert alert-error\"><strong><center>\n",
      "\n",
      "A partir d'ara i fins a final de curs, els criteris d\u2019avaluaci\u00f3 s\u00f3n: (1) El programa ha de donar un **resultat correcte obligat\u00f2riament**. (2) S'ha de fer un \u00fas adequat del llenguatge (fer servir ``if/while`` correctament, fer servir la col\u2022lecci\u00f3 adequada, etc.): 60% de la nota. (3)  Bon estil de programaci\u00f3 (fer una interfase d\u2019usuari adequada, comentaris, etc.): 40% de la nota.</center></strong> </div>"
     ]
    },
    {
     "cell_type": "markdown",
     "metadata": {},
     "source": [
      "### Mesura emp\u00edrica del temps de c\u00e0lcul d'un algorisme. \n",
      "\n",
      "La forma emp\u00edrica m\u00e9s corrent per a saber quant triga un determinat conjunt d'instruccions a fer una determinada tasca \u00e9s usar les funcions de Python que ens permeten consultar el rellotge de l\u2019ordinador (que d\u00f3na el temps en microsegons). Per exemple, si volgu\u00e9ssim saber el temps empleat per calcular la suma dels factorials de tots els enters fins a 200 ho podr\u00edem fer amb la funci\u00f3 seg\u00fcent:"
     ]
    },
    {
     "cell_type": "code",
     "collapsed": false,
     "input": [
      "def temps():\n",
      "    import time\n",
      "    import math\n",
      "    t1 = time.clock() \n",
      "    a = 0 \n",
      "    for i in range(1,200):\n",
      "        a = a + math.factorial(i)\n",
      "    t2 = time.clock()\n",
      "    print \"El temps de proces ha estat %0.3f ms\" % ((t2-t1)*1000)"
     ],
     "language": "python",
     "metadata": {},
     "outputs": [],
     "prompt_number": 12
    },
    {
     "cell_type": "code",
     "collapsed": false,
     "input": [
      "temps()"
     ],
     "language": "python",
     "metadata": {},
     "outputs": [
      {
       "output_type": "stream",
       "stream": "stdout",
       "text": [
        "El temps de proces ha estat 0.000 ms\n"
       ]
      }
     ],
     "prompt_number": 2
    },
    {
     "cell_type": "markdown",
     "metadata": {},
     "source": [
      "L'IPython ens proporciona una instrucci\u00f3, ``%timeit``, que ens avaluen el temps de c\u00e0lcul d'una linia del programa."
     ]
    },
    {
     "cell_type": "code",
     "collapsed": false,
     "input": [
      "import time\n",
      "import math\n",
      "\n",
      "def temps2():\n",
      "    a = 0 \n",
      "    for i in range(1,200):\n",
      "        a = a + math.factorial(i)\n",
      "    return a\n",
      "\n",
      "%timeit temps2()"
     ],
     "language": "python",
     "metadata": {},
     "outputs": [
      {
       "output_type": "stream",
       "stream": "stdout",
       "text": [
        "100 loops, best of 3: 4.02 ms per loop\n"
       ]
      }
     ],
     "prompt_number": 13
    },
    {
     "cell_type": "markdown",
     "metadata": {},
     "source": [
      "Amb aquestes mesures podem comparar emp\u00edricament el temps emprat per diversos algorismes que resolen un mateix problema."
     ]
    },
    {
     "cell_type": "markdown",
     "metadata": {},
     "source": [
      "## Exercici 1\n",
      "\n",
      "+ Escriu la versi\u00f3 recursiva del c\u00e0lcul de l\u2019en\u00e8sim element de la seq\u00fc\u00e8ncia de Fibonacci, ``fib1``. L\u2019algorisme ha de demanar a l\u2019usuari quin terme $n$ vol calcular i ha d\u2019imprimir el seu valor i quan ha trigat en calcular-lo."
     ]
    },
    {
     "cell_type": "code",
     "collapsed": false,
     "input": [
      "# Substitu\u00efu la comanda pass per la vostra soluci\u00f3\n",
      "\n",
      "import time\n",
      "\n",
      "t1 = time.clock() \n",
      "\n",
      "def fib1(n):     \n",
      " \n",
      "    if n == 1:\n",
      "        return 1\n",
      "    \n",
      "    if n == 0:\n",
      "        return 0\n",
      "    \n",
      "    return fib1(n-1) + fib1(n-2)\n",
      "\n",
      "t2 = time.clock()\n",
      "\n",
      "# Test de la funci\u00f3\n",
      "\n",
      "n = input(\"Entra un nombre de la posicio de la sequencia de Fibbonacci: \")\n",
      "fib1(n)\n",
      "\n",
      "print \"\\nEl numero\", n , \"correspon al numero\", fib1(n), \"de la seq\u00fcencia de Fibbonacci\"\n",
      "print \"\\nEl temps de proces ha estat %0.3f ms\" % ((t2-t1)*1000)"
     ],
     "language": "python",
     "metadata": {},
     "outputs": [
      {
       "name": "stdout",
       "output_type": "stream",
       "stream": "stdout",
       "text": [
        "Entra un nombre de la posicio de la sequencia de Fibbonacci: 25\n"
       ]
      },
      {
       "output_type": "stream",
       "stream": "stdout",
       "text": [
        "\n",
        "El numero 25 correspon al numero "
       ]
      },
      {
       "output_type": "stream",
       "stream": "stdout",
       "text": [
        "75025 de la seq\u00fcencia de Fibbonacci\n",
        "\n",
        "El temps de proces ha estat 0.276 ms\n"
       ]
      }
     ],
     "prompt_number": 1
    },
    {
     "cell_type": "markdown",
     "metadata": {},
     "source": [
      "### M\u00e0xim Com\u00fa Divisor (MCD)\n",
      "\n",
      "El M\u00e0xim Com\u00fa Divisor (MCD) de dos valors es pot calcular amb l\u2019algorisme d\u2019Euclides. Comen\u00e7ant amb els valors $m$ i $n$, apliquem repetidament la f\u00f3rmula ``n,m=m,n%m`` fins que $m$ \u00e9s $0$. Llavors, $n$ \u00e9s el MCD de $m$ i $n$. \n",
      "\n",
      "## Exercici 2\n",
      "\n",
      "+ Escriviu una funci\u00f3, ``mcd``, que calcula el MCD de dos nombres enters entrats per l\u2019usuari. "
     ]
    },
    {
     "cell_type": "code",
     "collapsed": false,
     "input": [
      "# Substitu\u00efu la comanda pass per la vostra soluci\u00f3\n",
      "\n",
      "def mcd(n, m):\n",
      "    \n",
      "    while m != 0: #mentre la m \u00e9s diferent de 0 apliquem la f\u00f3rmula\n",
      "        n, m = m, n % m\n",
      "    return n\n",
      "    \n",
      "    \n",
      "# Test de la funci\u00f3\n",
      "\n",
      "n = input(\"Entra un valor n enter: \")\n",
      "m = input (\"Entra un valor m enter: \")\n",
      "\n",
      "print \"El Maxim Comu Divisor de\",n, \"i de\",m, \"es\", mcd(n,m)"
     ],
     "language": "python",
     "metadata": {},
     "outputs": [
      {
       "name": "stdout",
       "output_type": "stream",
       "stream": "stdout",
       "text": [
        "Entra un valor n enter: 12\n"
       ]
      },
      {
       "name": "stdout",
       "output_type": "stream",
       "stream": "stdout",
       "text": [
        "Entra un valor m enter: 36\n"
       ]
      },
      {
       "output_type": "stream",
       "stream": "stdout",
       "text": [
        "El Maxim Comu Divisor de 12 i de 36 es 12\n"
       ]
      }
     ],
     "prompt_number": 2
    },
    {
     "cell_type": "markdown",
     "metadata": {},
     "source": [
      "### El sed\u00e0s d'Erat\u00f2stenes.\n",
      "\n",
      "El sed\u00e0s d'Erat\u00f2stenes \u00e9s un algorisme antic per cercar tots els nombres primers fins a un determinat enter. Va ser creat per Erat\u00f2stenes (276-194 aC) un matem\u00e0tic de l'Antiga Gr\u00e8cia. Refer\u00e8ncia: http://ca.wikipedia.org/wiki/Sed\u00e0s_d'Erat\u00f2stenes.\n",
      "\n",
      "Algorisme:\n",
      "\n",
      "1. Escriviu una llista $A$ amb els n\u00fameros des del $2$ fins a l'enter m\u00e9s gran $N$ que vulgueu calcular.\n",
      "2. El primer nombre de la llista \u00e9s un nombre primer. Anoteu-lo en una llista de nombres primers, $B$.\n",
      "3. Esborreu de la llista $A$ el primer nombre i els seus m\u00faltiples.\n",
      "4. Si el primer nombre de la llista $A$ \u00e9s m\u00e9s petit que l\u2019arrel quadrada de $N$, torneu al punt 2.\n",
      "5. Els nombres de la llista $B$ i els que queden a la llista $A$ s\u00f3n tots els nombres primers cercats."
     ]
    },
    {
     "cell_type": "markdown",
     "metadata": {},
     "source": [
      "## Exercici 3\n",
      "\n",
      "+ Escriu una funci\u00f3, ``era1``, que demani a l\u2019usuari un nombre $n$ i llavors usi aquest algorisme per imprimir tots els nombres primers menors o iguals que $n$. "
     ]
    },
    {
     "cell_type": "code",
     "collapsed": false,
     "input": [
      "# Substitu\u00efu la comanda pass per la vostra soluci\u00f3\n",
      "\n",
      "def era1(n):\n",
      "\n",
      "    import math\n",
      "    \n",
      "    A, B = range(3,n+1,2), [] # Creem els arrays\n",
      "    \n",
      "    index = 2 # Index \u00e9s el primer nombre de la llista B que far\u00e0 mod\n",
      "\n",
      "    B.append(index)\n",
      "    \n",
      "    while (index <= math.sqrt(n)):    \n",
      "        for i in A:\n",
      "            if not i % index: # Si el m\u00f2dul retorna 0 'i' \u00e9s multiple d'index, l'elimino\n",
      "                A.remove(i)\n",
      "        \n",
      "        index = A[0]\n",
      "        B.append(index)\n",
      "    \n",
      "    B.remove(index) # Elimino l'ultim index ja que aquest \u00e9s repetit\n",
      "    \n",
      "    if 2 not in B: # Creo l'array final\n",
      "        array = [2] + B + A\n",
      "    else:\n",
      "        array = B + A \n",
      "    \n",
      "    return array\n",
      "\n",
      "# Test de la funci\u00f3\n",
      "\n",
      "n = input(\"Si us plau, entra un nombre per saber els primers: \")\n",
      "\n",
      "while (n < 2):\n",
      "    n = input(\"Si us plau entra un nombre a partir del 2: \")\n",
      "\n",
      "print \"\\nEls nombres primers fins a \" + str(n) + \" son: \", era1(n)"
     ],
     "language": "python",
     "metadata": {},
     "outputs": [
      {
       "name": "stdout",
       "output_type": "stream",
       "stream": "stdout",
       "text": [
        "Si us plau, entra un nombre per saber els primers: 200\n"
       ]
      },
      {
       "output_type": "stream",
       "stream": "stdout",
       "text": [
        "\n",
        "Els nombres primers fins a 200 son:  [2, 3, 5, 7, 11, 13, 17, 19, 23, 29, 31, 37, 41, 43, 47, 53, 59, 61, 67, 71, 73, 79, 83, 89, 97, 101, 103, 107, 109, 113, 127, 131, 137, 139, 149, 151, 157, 163, 167, 173, 179, 181, 191, 193, 197, 199]\n"
       ]
      }
     ],
     "prompt_number": 10
    },
    {
     "cell_type": "markdown",
     "metadata": {},
     "source": [
      "## Exercici 4\n",
      "\n",
      "+ Escriu una funci\u00f3, ``era2``, que imprimeixi el temps que es triga a calcular mitjan\u00e7ant el sed\u00e0s d\u2019Erat\u00f2stenes els nombres primers menors que $1.000.000$ i quants nombres primers hi ha. "
     ]
    },
    {
     "cell_type": "markdown",
     "metadata": {},
     "source": [
      "   + NOTA1: Comenceu per un nombre m\u00e0xim m\u00e9s petit que 1.000.000 i aneu pujant mica en mica.\n",
      "\n",
      "   + NOTA2: Si el c\u00e0lcul fins a 1.000.000 triga m\u00e9s de 10 segons, digueu fins a quin nombre arribeu en 10 segons.\n",
      "   \n",
      "   + NOTA3: Podeu fer implementacions molt eficients amb un operador de Python anomenat \"comprehensions\". Aquest operador ens permet definir funcions de forma molt compacte. Per exemple, la llista dels dels enters entre 1 i 100 que s\u00f3n divisibles per tres \u00e9s:\n",
      "   `` [x for i in range(1,101) if x%3 == 0]``. Aquest tipus d'operador us pot ser molt \u00fatil per implementar el sed\u00e0s d'Erat\u00f2stenes.\n",
      "   "
     ]
    },
    {
     "cell_type": "code",
     "collapsed": false,
     "input": [
      "# Substitu\u00efu la comanda pass per la vostra soluci\u00f3\n",
      "\n",
      "def era2(n):\n",
      "    \n",
      "    A, cont, index = range(3, n+1, 2), 0, 0 # Creem l'array, l'index i el contador\n",
      "                                            # L'index marca on comencen els canvis a 0, per aix\u00f2 s'iguala al contador en cada iteraci\u00f3\n",
      "    for i in A:\n",
      "        cont = index \n",
      "        cont += i\n",
      "        \n",
      "        if i: # Si no \u00e9s 0\n",
      "            A[cont: n+1 :i] = [0] * len(A[cont: n+1: i]) #Canviem els nombres compostos per '0'\n",
      "            cont += i\n",
      "            \n",
      "        index += 1 # L'index puja un punt per tornar a iterar\n",
      "        \n",
      "    return [2] + [i for i in A if i] # Array final\n",
      "\n",
      "\n",
      "# Test de la funci\u00f3\n",
      "\n",
      "import time\n",
      "t1 = time.clock()\n",
      "\n",
      "print \"\\nHi ha \" + str(len(era2(1000000))) + \" nombres primers fins a 1.000.000\\n\"\n",
      "\n",
      "t2 = time.clock()\n",
      "print \"El temps de proces ha estat %0.3f ms\" % ((t2-t1)*1000) + \"\\n\""
     ],
     "language": "python",
     "metadata": {},
     "outputs": [
      {
       "output_type": "stream",
       "stream": "stdout",
       "text": [
        "\n",
        "Hi ha 78498 nombres primers fins a 1.000.000\n",
        "\n",
        "El temps de proces ha estat 364.180 ms\n",
        "\n"
       ]
      }
     ],
     "prompt_number": 6
    },
    {
     "cell_type": "markdown",
     "metadata": {},
     "source": [
      "\n",
      "## Exercici 5\n",
      "\n",
      "+ Escriu una funci\u00f3 ``factorp`` que comprovi si un determinat nombre $n$ \u00e9s primer mitjan\u00e7ant la t\u00e8cnica de la factoritzaci\u00f3 i que imprimeixi quan temps ha trigat en calcular-ho (podeu usar el m\u00e8tode explicat a http://www.purplemath.com/modules/factnumb.htm)."
     ]
    },
    {
     "cell_type": "code",
     "collapsed": false,
     "input": [
      "# Substitu\u00efu la comanda pass per la vostra soluci\u00f3\n",
      "\n",
      "# IMPORTANT! Aquesta funci\u00f3 utilitza la funci\u00f3 era2() per aix\u00f2 es necessita haver-la executat abans !!\n",
      "\n",
      "def factorp(n):\n",
      "    \n",
      "    m, array, factor = n, era2(n), 0 # Creo la variable, l'array de primers i el factor\n",
      "    \n",
      "    for i in array:        \n",
      "        while (not n % i): # Si el m\u00f2dul \u00e9s 0 aplico la factoritzaci\u00f3\n",
      "            n = n / i # Aqui aplico el m\u00e8tode de la factoritzaci\u00f3\n",
      "            factor = i\n",
      "            print \"Factor: \" + str(factor)\n",
      "            \n",
      "    prime = factor == m # Guardo el valor en un boolean\n",
      "       \n",
      "    if prime: \n",
      "        print \"\\nSi! El nombre\", m, \"es primer.\" \n",
      "    else: \n",
      "        print \"\\nNo! El nombre\", m, \"no es primer.\"\n",
      "    \n",
      "        \n",
      "# Test de la funci\u00f3\n",
      "\n",
      "import time\n",
      "\n",
      "n = input(\"\\nSi us plau, entra un nombre per saber si es primer:  \")\n",
      "t1 = time.clock()\n",
      "factorp(n)\n",
      "t2 = time.clock()\n",
      "print \"\\nEl temps de proces ha estat %0.3f ms\" % ((t2-t1)*1000) + \"\\n\""
     ],
     "language": "python",
     "metadata": {},
     "outputs": [
      {
       "name": "stdout",
       "output_type": "stream",
       "stream": "stdout",
       "text": [
        "\n",
        "Si us plau, entra un nombre per saber si es primer:  75\n"
       ]
      },
      {
       "output_type": "stream",
       "stream": "stdout",
       "text": [
        "Factor: 3\n",
        "Factor: 5\n",
        "Factor: 5\n",
        "\n",
        "No! El nombre 75 no es primer.\n",
        "\n",
        "El temps de proces ha estat 0.304 ms\n",
        "\n"
       ]
      }
     ],
     "prompt_number": 8
    },
    {
     "cell_type": "markdown",
     "metadata": {},
     "source": [
      "## Exercici 6\n",
      "\n",
      "+ Escriu una funci\u00f3, ``fermatp``, que comprovi si un determinat nombre $n$ \u00e9s primer mitjan\u00e7ant la t\u00e8cnica de Fermat amb valors $a=2, 3,  5$ (veure apunts de teoria). La funci\u00f3 ha d\u2019escriure al final del test el resultat (primer o compost) i el temps que ha trigat."
     ]
    },
    {
     "cell_type": "code",
     "collapsed": false,
     "input": [
      "# Substitu\u00efu la comanda pass per la vostra soluci\u00f3\n",
      "\n",
      "def fermatp(n):\n",
      "    \n",
      "    A, comp, prime = [2,3,5], 0, 0\n",
      "    \n",
      "    for i in A:\n",
      "        \n",
      "        if((i**(n-1)) % n != 1):\n",
      "            comp += 1\n",
      "        else:\n",
      "            prime += 1\n",
      "    \n",
      "    if comp > prime:\n",
      "        print \"\\nEl numero\",n, \"es compost\\n\"\n",
      "    else:\n",
      "        print \"\\nEl nombre\",n, \"es primer\\n\"\n",
      "\n",
      "        \n",
      "# Test de la funci\u00f3\n",
      "\n",
      "n = input(\"\\nSi us plau, entra un nombre per saber si es primer: \")\n",
      "\n",
      "fermatp(n)"
     ],
     "language": "python",
     "metadata": {},
     "outputs": [
      {
       "name": "stdout",
       "output_type": "stream",
       "stream": "stdout",
       "text": [
        "\n",
        "Si us plau, entra un nombre per saber si es primer: 32\n"
       ]
      },
      {
       "output_type": "stream",
       "stream": "stdout",
       "text": [
        "\n",
        "El numero 32 es compost\n",
        "\n"
       ]
      }
     ],
     "prompt_number": 9
    },
    {
     "cell_type": "code",
     "collapsed": false,
     "input": [],
     "language": "python",
     "metadata": {},
     "outputs": []
    }
   ],
   "metadata": {}
  }
 ]
}